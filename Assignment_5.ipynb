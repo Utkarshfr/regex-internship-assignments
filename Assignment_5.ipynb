{
  "nbformat": 4,
  "nbformat_minor": 0,
  "metadata": {
    "colab": {
      "name": "Assignment 5.ipynb",
      "provenance": [],
      "collapsed_sections": []
    },
    "kernelspec": {
      "name": "python3",
      "display_name": "Python 3"
    },
    "language_info": {
      "name": "python"
    }
  },
  "cells": [
    {
      "cell_type": "markdown",
      "metadata": {
        "id": "reVd_s2-keKR"
      },
      "source": [
        "# Task 5\n",
        "- Referal ID : SIRSS1114\n",
        "- Name : Utkarsh Farkya"
      ]
    },
    {
      "cell_type": "markdown",
      "metadata": {
        "id": "mxfwmYJvaMZq"
      },
      "source": [
        "# Given a list of integers, write a function to return the sum of all prime numbers in that list."
      ]
    },
    {
      "cell_type": "code",
      "metadata": {
        "id": "P7aH8tpZZHWB"
      },
      "source": [
        "def isPrime(num):\n",
        "  for j in range(2,int(num ** 0.5) + 1):\n",
        "    if num % j == 0:\n",
        "      return False\n",
        "\n",
        "  return True"
      ],
      "execution_count": null,
      "outputs": []
    },
    {
      "cell_type": "code",
      "metadata": {
        "colab": {
          "base_uri": "https://localhost:8080/"
        },
        "id": "ez33ZUL1WqZF",
        "outputId": "d0897c27-0d60-4e16-9caa-a7c3424ceba4"
      },
      "source": [
        "x = list(map(int,input().split()))\n",
        "ans = 0\n",
        "\n",
        "for i in x:\n",
        "  if isPrime(i):\n",
        "    ans += i\n",
        "\n",
        "print(ans)"
      ],
      "execution_count": null,
      "outputs": [
        {
          "output_type": "stream",
          "text": [
            "7 98 8 72 87827 73939\n",
            "73946\n"
          ],
          "name": "stdout"
        }
      ]
    },
    {
      "cell_type": "markdown",
      "metadata": {
        "id": "954T2bUSafWB"
      },
      "source": [
        "# Given a list of integers, write a function to check whether the list is strictly increasing or not."
      ]
    },
    {
      "cell_type": "code",
      "metadata": {
        "colab": {
          "base_uri": "https://localhost:8080/"
        },
        "id": "SC8_0T5qafEN",
        "outputId": "8fb458a0-6294-45fe-93ca-3d3cc8bc4750"
      },
      "source": [
        "x = list(map(int,input().split()))\n",
        "flag = True\n",
        "for i in range(1,len(x)):\n",
        "  if x[i] > x[i-1]:\n",
        "    flag = False\n",
        "    break\n",
        "\n",
        "print(flag)"
      ],
      "execution_count": null,
      "outputs": [
        {
          "output_type": "stream",
          "text": [
            "2 8 6 3 7 9 11 13 16 17\n",
            "False\n"
          ],
          "name": "stdout"
        }
      ]
    },
    {
      "cell_type": "markdown",
      "metadata": {
        "id": "y88mDvxbeWLm"
      },
      "source": [
        "# Write a function to check whether a given list is expanding or not (the difference between adjacent elements should keep on increasing)."
      ]
    },
    {
      "cell_type": "code",
      "metadata": {
        "colab": {
          "base_uri": "https://localhost:8080/"
        },
        "id": "x_Bb0rHhc1ZE",
        "outputId": "66f58edf-79ea-4af1-dac4-f88cabcc6012"
      },
      "source": [
        "x = list(map(int,input().split()))\n",
        "flag = True\n",
        "val = None\n",
        "for i in range(1,len(x)):\n",
        "    if val is None:\n",
        "        val = x[i] - x[i-1]\n",
        "    elif val and x[i] - x[i-1] > val:\n",
        "        val = x[i] - x[i-1]\n",
        "    else:\n",
        "        flag = False\n",
        "        break\n",
        "print(flag)"
      ],
      "execution_count": null,
      "outputs": [
        {
          "output_type": "stream",
          "text": [
            "2 3 5 8 12 16\n",
            "False\n"
          ],
          "name": "stdout"
        }
      ]
    },
    {
      "cell_type": "markdown",
      "metadata": {
        "id": "YTX3_7sKhn2A"
      },
      "source": [
        "# Write a function to calculate all permutations of a given string. (Without using itertools)"
      ]
    },
    {
      "cell_type": "code",
      "metadata": {
        "id": "gyqgn6jyhpvt",
        "colab": {
          "base_uri": "https://localhost:8080/"
        },
        "outputId": "b49d8a9b-fd31-4cb2-c077-d60264e615dd"
      },
      "source": [
        "def perm(string,i,j):\n",
        "    if i == j:\n",
        "        print(\"\".join(string))\n",
        "    \n",
        "    for x in range(i,len(string)):\n",
        "        string[i],string[x] = string[x],string[i]\n",
        "        perm(string,i+1,j)\n",
        "        string[i],string[x] = string[x],string[i]\n",
        "\n",
        "x = list(input())\n",
        "perm(x,0,len(x))"
      ],
      "execution_count": null,
      "outputs": [
        {
          "output_type": "stream",
          "text": [
            "abcd\n",
            "abcd\n",
            "abdc\n",
            "acbd\n",
            "acdb\n",
            "adcb\n",
            "adbc\n",
            "bacd\n",
            "badc\n",
            "bcad\n",
            "bcda\n",
            "bdca\n",
            "bdac\n",
            "cbad\n",
            "cbda\n",
            "cabd\n",
            "cadb\n",
            "cdab\n",
            "cdba\n",
            "dbca\n",
            "dbac\n",
            "dcba\n",
            "dcab\n",
            "dacb\n",
            "dabc\n"
          ],
          "name": "stdout"
        }
      ]
    },
    {
      "cell_type": "code",
      "metadata": {
        "id": "iXk7j3Lx1sZe"
      },
      "source": [
        ""
      ],
      "execution_count": null,
      "outputs": []
    }
  ]
}