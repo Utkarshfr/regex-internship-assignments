{
  "nbformat": 4,
  "nbformat_minor": 0,
  "metadata": {
    "colab": {
      "name": "Assignment 2.ipynb",
      "provenance": [],
      "collapsed_sections": []
    },
    "kernelspec": {
      "name": "python3",
      "display_name": "Python 3"
    },
    "language_info": {
      "name": "python"
    }
  },
  "cells": [
    {
      "cell_type": "markdown",
      "metadata": {
        "id": "7tjWyfKOdnzp"
      },
      "source": [
        "# Task 2\n",
        "\n",
        "- Referal ID : SIRSS1114  \n",
        "- Name : Utkarsh Farkya"
      ]
    },
    {
      "cell_type": "code",
      "metadata": {
        "colab": {
          "base_uri": "https://localhost:8080/"
        },
        "id": "vTP8RNGHLPSh",
        "outputId": "f4493d60-a364-4864-e7d3-e73942a1322d"
      },
      "source": [
        "string = \"John Wick\"\n",
        "get_first_letter = lambda word : word[0]\n",
        "\n",
        "print(get_first_letter(string))"
      ],
      "execution_count": null,
      "outputs": [
        {
          "output_type": "stream",
          "text": [
            "J\n"
          ],
          "name": "stdout"
        }
      ]
    },
    {
      "cell_type": "code",
      "metadata": {
        "colab": {
          "base_uri": "https://localhost:8080/"
        },
        "id": "7dhIRc1rLpIr",
        "outputId": "67406745-8efe-4b00-cdd4-83a89837d27f"
      },
      "source": [
        "string = \"Hello This is John Wick\"\n",
        "get_first_word = lambda words : words.split()[0]\n",
        "\n",
        "print(get_first_word(string))"
      ],
      "execution_count": null,
      "outputs": [
        {
          "output_type": "stream",
          "text": [
            "Hello\n"
          ],
          "name": "stdout"
        }
      ]
    },
    {
      "cell_type": "code",
      "metadata": {
        "colab": {
          "base_uri": "https://localhost:8080/"
        },
        "id": "fQtAS2eGMp-N",
        "outputId": "c533347b-b894-4510-d91d-2cd038db4de2"
      },
      "source": [
        "list_of_strings = ['Hello This is John Wick','John Wick is a fictional character','John Wick likes killing people']\n",
        "\n",
        "print(list(map(get_first_word,list_of_strings)))\n",
        "\n"
      ],
      "execution_count": null,
      "outputs": [
        {
          "output_type": "stream",
          "text": [
            "['Hello', 'John', 'John']\n"
          ],
          "name": "stdout"
        }
      ]
    },
    {
      "cell_type": "code",
      "metadata": {
        "colab": {
          "base_uri": "https://localhost:8080/"
        },
        "id": "ehCVM4kINAmL",
        "outputId": "e54edfb1-ef45-469a-e4de-ceccaa9776d8"
      },
      "source": [
        "def isPrime(num):\n",
        "  for i in range(2,int(num ** 0.5) + 1):\n",
        "    if num % i == 0:\n",
        "      return False\n",
        "\n",
        "  return True\n",
        "\n",
        "def factors(num):\n",
        "  x = []\n",
        "  for i in range(1,int(num ** 0.5) + 1):\n",
        "    if num % i == 0:\n",
        "      if isPrime(i) and i != 1:\n",
        "        x.append(i)\n",
        "      if num / i != i and isPrime(num // i):\n",
        "        x.append(num // i)\n",
        "\n",
        "  return x\n",
        "\n",
        "print(*factors(int(input())))"
      ],
      "execution_count": null,
      "outputs": [
        {
          "output_type": "stream",
          "text": [
            "55\n",
            "5 11\n"
          ],
          "name": "stdout"
        }
      ]
    },
    {
      "cell_type": "code",
      "metadata": {
        "colab": {
          "base_uri": "https://localhost:8080/"
        },
        "id": "L65FofkbU9NJ",
        "outputId": "d8df24de-00a3-497b-861b-20036e49834e"
      },
      "source": [
        "a = int(input())\n",
        "b = int(input())\n",
        "c = int(input())\n",
        "d = int(input())\n",
        "x = [a,b,c,d]\n",
        "val = max(x)\n",
        "x.remove(val)\n",
        "print(max(x))"
      ],
      "execution_count": null,
      "outputs": [
        {
          "output_type": "stream",
          "text": [
            "4\n",
            "5\n",
            "3\n",
            "1\n",
            "4\n"
          ],
          "name": "stdout"
        }
      ]
    },
    {
      "cell_type": "code",
      "metadata": {
        "id": "EWALrYkWdzCk"
      },
      "source": [
        ""
      ],
      "execution_count": null,
      "outputs": []
    }
  ]
}