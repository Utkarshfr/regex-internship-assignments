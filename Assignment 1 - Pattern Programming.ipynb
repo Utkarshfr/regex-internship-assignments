{
  "nbformat": 4,
  "nbformat_minor": 0,
  "metadata": {
    "colab": {
      "name": "Assignment 1.ipynb",
      "provenance": [],
      "collapsed_sections": []
    },
    "kernelspec": {
      "name": "python3",
      "display_name": "Python 3"
    }
  },
  "cells": [
    {
      "cell_type": "markdown",
      "metadata": {
        "id": "ZeWKAN7AK7cQ"
      },
      "source": [
        "#Task 1\n",
        "- Referal ID : SIRSS1114\n",
        "- Name : Utkarsh Farkya  \n"
      ]
    },
    {
      "cell_type": "code",
      "metadata": {
        "colab": {
          "base_uri": "https://localhost:8080/"
        },
        "id": "z5iZpvpASrLM",
        "outputId": "fa0a2bd4-acbb-4882-f5fd-0a76a898f11d"
      },
      "source": [
        "for i in range(5):\n",
        "    for i in range(5 - i):\n",
        "        print(f\"5\",end=' ')\n",
        "    print()"
      ],
      "execution_count": null,
      "outputs": [
        {
          "output_type": "stream",
          "text": [
            "5 5 5 5 5 \n",
            "5 5 5 5 \n",
            "5 5 5 \n",
            "5 5 \n",
            "5 \n"
          ],
          "name": "stdout"
        }
      ]
    },
    {
      "cell_type": "code",
      "metadata": {
        "colab": {
          "base_uri": "https://localhost:8080/"
        },
        "id": "cOYQL7ZsUxLE",
        "outputId": "c3e249e8-888f-438f-adf7-1f6d5866d041"
      },
      "source": [
        "for i in range(5):\n",
        "    for j in range(6 - i):\n",
        "        print(j,end=' ')\n",
        "    print()\n"
      ],
      "execution_count": null,
      "outputs": [
        {
          "output_type": "stream",
          "text": [
            "0 1 2 3 4 5 \n",
            "0 1 2 3 4 \n",
            "0 1 2 3 \n",
            "0 1 2 \n",
            "0 1 \n"
          ],
          "name": "stdout"
        }
      ]
    },
    {
      "cell_type": "code",
      "metadata": {
        "colab": {
          "base_uri": "https://localhost:8080/"
        },
        "id": "PjlitPPPU53L",
        "outputId": "0077a301-1165-4d8d-beac-d89e6937b231"
      },
      "source": [
        "for i in range(5):\n",
        "    for j in range(i+1):\n",
        "        print(f\"{2 * i + 1}\",end=' ')\n",
        "    print()"
      ],
      "execution_count": null,
      "outputs": [
        {
          "output_type": "stream",
          "text": [
            "1 \n",
            "3 3 \n",
            "5 5 5 \n",
            "7 7 7 7 \n",
            "9 9 9 9 9 \n"
          ],
          "name": "stdout"
        }
      ]
    },
    {
      "cell_type": "code",
      "metadata": {
        "colab": {
          "base_uri": "https://localhost:8080/"
        },
        "id": "50D2UBw1U18z",
        "outputId": "f0e96192-ca63-4f79-bf87-0f33f88eda3f"
      },
      "source": [
        "for i in range(5):\n",
        "    for j in range(i+1,0,-1):\n",
        "        print(f\"{j}\",end=\" \")\n",
        "    print()"
      ],
      "execution_count": null,
      "outputs": [
        {
          "output_type": "stream",
          "text": [
            "1 \n",
            "2 1 \n",
            "3 2 1 \n",
            "4 3 2 1 \n",
            "5 4 3 2 1 \n"
          ],
          "name": "stdout"
        }
      ]
    },
    {
      "cell_type": "code",
      "metadata": {
        "colab": {
          "base_uri": "https://localhost:8080/"
        },
        "id": "z-bQNrejVB4H",
        "outputId": "50edaba7-4d19-433b-bb93-5b0b1359cd24"
      },
      "source": [
        "count = 0\n",
        "for i in range(1,5):\n",
        "    count += i\n",
        "    for j in range(count,count - i,-1):\n",
        "        print(j,end = ' ')\n",
        "    print()"
      ],
      "execution_count": null,
      "outputs": [
        {
          "output_type": "stream",
          "text": [
            "1 \n",
            "3 2 \n",
            "6 5 4 \n",
            "10 9 8 7 \n"
          ],
          "name": "stdout"
        }
      ]
    },
    {
      "cell_type": "code",
      "metadata": {
        "id": "B8zk7OaMVGbn",
        "colab": {
          "base_uri": "https://localhost:8080/"
        },
        "outputId": "5c4b541d-34ea-4f29-de55-0bc362aaebbd"
      },
      "source": [
        "for i in range(1,8):\n",
        "    val = 1\n",
        "    for j in range(1,i+1):\n",
        "        print(val,end=\" \")\n",
        "        val = val * (i - j)//j\n",
        "    print()"
      ],
      "execution_count": 24,
      "outputs": [
        {
          "output_type": "stream",
          "text": [
            "1 \n",
            "1 1 \n",
            "1 2 1 \n",
            "1 3 3 1 \n",
            "1 4 6 4 1 \n",
            "1 5 10 10 5 1 \n",
            "1 6 15 20 15 6 1 \n"
          ],
          "name": "stdout"
        }
      ]
    },
    {
      "cell_type": "code",
      "metadata": {
        "colab": {
          "base_uri": "https://localhost:8080/"
        },
        "id": "cu7W5lhTVNiy",
        "outputId": "0972ec40-9fce-48ef-b1dd-56716dcc6faa"
      },
      "source": [
        "for i in range(1,6):\n",
        "    for j in range(1,6):\n",
        "        if j < i:\n",
        "            print(i,end=' ')\n",
        "        else:\n",
        "            print(j,end=' ')\n",
        "    print()\n"
      ],
      "execution_count": null,
      "outputs": [
        {
          "output_type": "stream",
          "text": [
            "1 2 3 4 5 \n",
            "2 2 3 4 5 \n",
            "3 3 3 4 5 \n",
            "4 4 4 4 5 \n",
            "5 5 5 5 5 \n"
          ],
          "name": "stdout"
        }
      ]
    },
    {
      "cell_type": "code",
      "metadata": {
        "colab": {
          "base_uri": "https://localhost:8080/"
        },
        "id": "fa6Wo-8VVOQ-",
        "outputId": "7f938da6-e9b0-4e8a-cb8b-39e18550693d"
      },
      "source": [
        "for i in range(1,9):\n",
        "    for j in range(i,i*i + 1,i):\n",
        "        print(j,end=' ')\n",
        "    print()\n"
      ],
      "execution_count": null,
      "outputs": [
        {
          "output_type": "stream",
          "text": [
            "1 \n",
            "2 4 \n",
            "3 6 9 \n",
            "4 8 12 16 \n",
            "5 10 15 20 25 \n",
            "6 12 18 24 30 36 \n",
            "7 14 21 28 35 42 49 \n",
            "8 16 24 32 40 48 56 64 \n"
          ],
          "name": "stdout"
        }
      ]
    },
    {
      "cell_type": "code",
      "metadata": {
        "colab": {
          "base_uri": "https://localhost:8080/"
        },
        "id": "MSqEo2L2VSOB",
        "outputId": "6f296f13-e64e-4246-8d28-ecf6b19a9ab9"
      },
      "source": [
        "for i in range(6):\n",
        "    for j in range(5 + i):\n",
        "        print(' ',end='')\n",
        "    \n",
        "    for j in range(6 - i):\n",
        "        print('*',end=' ')\n",
        "\n",
        "    print()\n"
      ],
      "execution_count": 27,
      "outputs": [
        {
          "output_type": "stream",
          "text": [
            "     * * * * * * \n",
            "      * * * * * \n",
            "       * * * * \n",
            "        * * * \n",
            "         * * \n",
            "          * \n"
          ],
          "name": "stdout"
        }
      ]
    },
    {
      "cell_type": "code",
      "metadata": {
        "colab": {
          "base_uri": "https://localhost:8080/"
        },
        "id": "CNDKC2YcVba7",
        "outputId": "b156ace5-8e2b-44db-b22b-a4315e4e1669"
      },
      "source": [
        "for i in range(7):\n",
        "    for j in range(5 + (7 - i)):\n",
        "        print(' ',end='')\n",
        "\n",
        "    for j in range(i+1):\n",
        "        print('*',end='  ')\n",
        "    print()\n"
      ],
      "execution_count": 30,
      "outputs": [
        {
          "output_type": "stream",
          "text": [
            "            *  \n",
            "           *  *  \n",
            "          *  *  *  \n",
            "         *  *  *  *  \n",
            "        *  *  *  *  *  \n",
            "       *  *  *  *  *  *  \n",
            "      *  *  *  *  *  *  *  \n"
          ],
          "name": "stdout"
        }
      ]
    },
    {
      "cell_type": "code",
      "metadata": {
        "colab": {
          "base_uri": "https://localhost:8080/"
        },
        "id": "9jWqYDsUVfYO",
        "outputId": "d8373a74-0b88-4218-831d-61670278c657"
      },
      "source": [
        "for i in range(6):\n",
        "    for j in range(i+1):\n",
        "        print('*',end=' ')\n",
        "    print()\n",
        "print()\n",
        "\n",
        "for i in range(6):\n",
        "    for j in range(6 - i):\n",
        "        print('*',end=' ')\n",
        "    print()\n"
      ],
      "execution_count": null,
      "outputs": [
        {
          "output_type": "stream",
          "text": [
            "* \n",
            "* * \n",
            "* * * \n",
            "* * * * \n",
            "* * * * * \n",
            "* * * * * * \n",
            "\n",
            "* * * * * * \n",
            "* * * * * \n",
            "* * * * \n",
            "* * * \n",
            "* * \n",
            "* \n"
          ],
          "name": "stdout"
        }
      ]
    },
    {
      "cell_type": "code",
      "metadata": {
        "colab": {
          "base_uri": "https://localhost:8080/"
        },
        "id": "n_2hbIDcVjYV",
        "outputId": "ae297469-a318-4677-d068-e2e7b0669169"
      },
      "source": [
        "for i in range(5 * 2 - 1):\n",
        "    val = i+1 if i < 5 else 10 - i - 1\n",
        "    for j in range(val):\n",
        "        print('*',end=' ')\n",
        "    if i != 8:\n",
        "        print()\n"
      ],
      "execution_count": null,
      "outputs": [
        {
          "output_type": "stream",
          "text": [
            "* \n",
            "* * \n",
            "* * * \n",
            "* * * * \n",
            "* * * * * \n",
            "* * * * \n",
            "* * * \n",
            "* * \n",
            "* "
          ],
          "name": "stdout"
        }
      ]
    },
    {
      "cell_type": "code",
      "metadata": {
        "colab": {
          "base_uri": "https://localhost:8080/"
        },
        "id": "Af4JAoIcV3Br",
        "outputId": "561508b0-ba48-44f2-fbc1-fbb213c36732"
      },
      "source": [
        "for i in range(5 * 2 - 1):\n",
        "    val = i+1 if i < 5 else 10 - i - 1\n",
        "    for j in range(5 - val):\n",
        "        print(' ',end=' ')\n",
        "\n",
        "    for j in range(val):\n",
        "        print('*',end=' ')\n",
        "    \n",
        "    if i != 8:\n",
        "        print()\n"
      ],
      "execution_count": null,
      "outputs": [
        {
          "output_type": "stream",
          "text": [
            "        * \n",
            "      * * \n",
            "    * * * \n",
            "  * * * * \n",
            "* * * * * \n",
            "  * * * * \n",
            "    * * * \n",
            "      * * \n",
            "        * "
          ],
          "name": "stdout"
        }
      ]
    },
    {
      "cell_type": "code",
      "metadata": {
        "colab": {
          "base_uri": "https://localhost:8080/"
        },
        "id": "Aeuv2gdVV6nD",
        "outputId": "debcc0fc-4000-4c35-d91c-ef461d37f043"
      },
      "source": [
        "for i in range(5 * 2):\n",
        "    val = i if i < 5 else 10 - i - 1\n",
        "    for j in range(val):\n",
        "        print(' ',end='')\n",
        "\n",
        "    for j in range(5 - val):\n",
        "        print('*',end=' ')\n",
        "    if i != 9:\n",
        "        print()\n"
      ],
      "execution_count": null,
      "outputs": [
        {
          "output_type": "stream",
          "text": [
            "* * * * * \n",
            " * * * * \n",
            "  * * * \n",
            "   * * \n",
            "    * \n",
            "    * \n",
            "   * * \n",
            "  * * * \n",
            " * * * * \n",
            "* * * * * "
          ],
          "name": "stdout"
        }
      ]
    },
    {
      "cell_type": "code",
      "metadata": {
        "id": "J8V9k9DWV97P",
        "colab": {
          "base_uri": "https://localhost:8080/"
        },
        "outputId": "aa611a1d-f326-4337-fba8-1ffc67c5c5b1"
      },
      "source": [
        "for i in range(8,0,-1):\n",
        "  x = \"\"\n",
        "  for j in range(i):\n",
        "    print('*',end='')\n",
        "    x += '*'\n",
        "  \n",
        "  for j in range(8-i):\n",
        "    print('_',end='')\n",
        "    x += '_'\n",
        "\n",
        "  print(x[::-1])"
      ],
      "execution_count": 32,
      "outputs": [
        {
          "output_type": "stream",
          "text": [
            "****************\n",
            "*******__*******\n",
            "******____******\n",
            "*****______*****\n",
            "****________****\n",
            "***__________***\n",
            "**____________**\n",
            "*______________*\n"
          ],
          "name": "stdout"
        }
      ]
    }
  ]
}