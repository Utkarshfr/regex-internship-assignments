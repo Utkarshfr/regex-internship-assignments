{
  "nbformat": 4,
  "nbformat_minor": 0,
  "metadata": {
    "colab": {
      "name": "Assignment 3.ipynb",
      "provenance": []
    },
    "kernelspec": {
      "name": "python3",
      "display_name": "Python 3"
    },
    "language_info": {
      "name": "python"
    }
  },
  "cells": [
    {
      "cell_type": "markdown",
      "metadata": {
        "id": "LPMUtn0GeKF8"
      },
      "source": [
        "# Task 3\n",
        "- Referal ID : SIRSS1114\n",
        "- Name : Utkarsh Farkya"
      ]
    },
    {
      "cell_type": "code",
      "metadata": {
        "id": "8zScnI2fd-Iw"
      },
      "source": [
        "def Fib(n):\n",
        "  if n == 0:\n",
        "    return 0\n",
        "  if n > 0:\n",
        "    a,b = 0,1\n",
        "    for i in range(2,n+1):\n",
        "      c = a+b\n",
        "      a,b = b,c\n",
        "    return b\n",
        "  return \"Give positive number\""
      ],
      "execution_count": 22,
      "outputs": []
    },
    {
      "cell_type": "code",
      "metadata": {
        "colab": {
          "base_uri": "https://localhost:8080/"
        },
        "id": "rPAVoaS5jNCc",
        "outputId": "fd3fa00e-0f07-4860-a454-fb58b1b05c6f"
      },
      "source": [
        "print(Fib(int(input())))"
      ],
      "execution_count": 25,
      "outputs": [
        {
          "output_type": "stream",
          "text": [
            "0\n",
            "0\n"
          ],
          "name": "stdout"
        }
      ]
    },
    {
      "cell_type": "code",
      "metadata": {
        "id": "vIOdWUHejqk5"
      },
      "source": [
        "def gcd(a,b):\n",
        "  if b == 0:\n",
        "    return a\n",
        "\n",
        "  return gcd(b,a % b)"
      ],
      "execution_count": 24,
      "outputs": []
    },
    {
      "cell_type": "code",
      "metadata": {
        "colab": {
          "base_uri": "https://localhost:8080/"
        },
        "id": "SIJ2JMMokDZl",
        "outputId": "c274086e-d590-4a36-e464-0f6d90c58d22"
      },
      "source": [
        "a,b = map(int,input().split())\n",
        "print(gcd(a,b))"
      ],
      "execution_count": 13,
      "outputs": [
        {
          "output_type": "stream",
          "text": [
            "2 43\n",
            "1\n"
          ],
          "name": "stdout"
        }
      ]
    },
    {
      "cell_type": "code",
      "metadata": {
        "id": "nxhOSt-MkFs1"
      },
      "source": [
        "def lcm(a,b):\n",
        "  return a * b // gcd(a,b)"
      ],
      "execution_count": 15,
      "outputs": []
    },
    {
      "cell_type": "code",
      "metadata": {
        "colab": {
          "base_uri": "https://localhost:8080/"
        },
        "id": "h6xd6jEvkg_3",
        "outputId": "880f7d1c-dd69-4238-e50c-c5fe9605fba9"
      },
      "source": [
        "print(lcm(45,75))"
      ],
      "execution_count": 16,
      "outputs": [
        {
          "output_type": "stream",
          "text": [
            "225\n"
          ],
          "name": "stdout"
        }
      ]
    },
    {
      "cell_type": "code",
      "metadata": {
        "id": "w5xZIrH2kojX"
      },
      "source": [
        ""
      ],
      "execution_count": null,
      "outputs": []
    }
  ]
}